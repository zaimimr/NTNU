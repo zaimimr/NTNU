{
 "cells": [
  {
   "cell_type": "code",
   "execution_count": null,
   "id": "32700e7a",
   "metadata": {},
   "outputs": [],
   "source": [
    "import torch\n",
    "import torch.nn as nn\n",
    "import matplotlib.pyplot as plt\n",
    "import tqdm\n",
    "import numpy as np\n",
    "import utils\n",
    "import dataloaders\n",
    "import torchvision\n",
    "from trainer import Trainer\n",
    "torch.random.manual_seed(0)\n",
    "np.random.seed(0)"
   ]
  },
  {
   "cell_type": "markdown",
   "id": "34d289e0",
   "metadata": {},
   "source": [
    "### Dataset"
   ]
  },
  {
   "cell_type": "code",
   "execution_count": null,
   "id": "be2e5f3e",
   "metadata": {},
   "outputs": [],
   "source": [
    "# Load the dataset and print some stats\n",
    "batch_size = 64\n",
    "\n",
    "image_transform = torchvision.transforms.Compose([\n",
    "    torchvision.transforms.Resize((32, 32)),\n",
    "    torchvision.transforms.ToTensor(),\n",
    "    torchvision.transforms.Normalize([0.5], [0.5])])\n",
    "\n",
    "dataloader_train, dataloader_test = dataloaders.load_dataset(batch_size, image_transform)\n",
    "example_images, _ = next(iter(dataloader_train))\n",
    "print(f\"The tensor containing the images has shape: {example_images.shape} (batch size, number of color channels, height, width)\",\n",
    "      f\"The maximum value in the image is {example_images.max()}, minimum: {example_images.min()}\", sep=\"\\n\\t\")"
   ]
  },
  {
   "cell_type": "code",
   "execution_count": null,
   "id": "6cbf24e4",
   "metadata": {},
   "outputs": [],
   "source": [
    "def create_model():\n",
    "    \"\"\"\n",
    "        Initializes the mode. Edit the code below if you would like to change the model.\n",
    "    \"\"\"\n",
    "    model = nn.Sequential(\n",
    "        nn.Flatten(), # Flattens the image from shape (batch_size, C, Height, width) to (batch_size, C*height*width)\n",
    "        nn.Linear(32*32*1, 10)\n",
    "        # No need to include softmax, as this is already combined in the loss function\n",
    "    )\n",
    "    # Transfer model to GPU memory if a GPU is available\n",
    "    model = utils.to_cuda(model)\n",
    "    return model\n",
    "\n",
    "\n",
    "model = create_model()"
   ]
  },
  {
   "cell_type": "code",
   "execution_count": null,
   "id": "fa7a4ca5",
   "metadata": {},
   "outputs": [],
   "source": [
    "# Test if the model is able to do a single forward pass\n",
    "example_images = utils.to_cuda(example_images)\n",
    "output = model(example_images)\n",
    "print(\"Output shape:\", output.shape)\n",
    "expected_shape = (batch_size, 10) # 10 since mnist has 10 different classes\n",
    "assert output.shape == expected_shape,    f\"Expected shape: {expected_shape}, but got: {output.shape}\""
   ]
  },
  {
   "cell_type": "markdown",
   "id": "8ad58ce7",
   "metadata": {},
   "source": [
    "### Hyperparameters & Loss function"
   ]
  },
  {
   "cell_type": "code",
   "execution_count": null,
   "id": "9a45cd0d",
   "metadata": {},
   "outputs": [],
   "source": [
    "# Hyperparameters\n",
    "learning_rate = .02\n",
    "num_epochs = 5\n",
    "\n",
    "\n",
    "# Use CrossEntropyLoss for multi-class classification\n",
    "loss_function = torch.nn.CrossEntropyLoss()\n",
    "\n",
    "# Define optimizer (Stochastic Gradient Descent)\n",
    "optimizer = torch.optim.SGD(model.parameters(),\n",
    "                            lr=learning_rate)"
   ]
  },
  {
   "cell_type": "markdown",
   "id": "130595b1",
   "metadata": {},
   "source": [
    "### Train model"
   ]
  },
  {
   "cell_type": "code",
   "execution_count": null,
   "id": "3d2daa9a",
   "metadata": {},
   "outputs": [],
   "source": [
    "trainer = Trainer(\n",
    "  model=model,\n",
    "  dataloader_train=dataloader_train,\n",
    "  dataloader_test=dataloader_test,\n",
    "  batch_size=batch_size,\n",
    "  loss_function=loss_function,\n",
    "  optimizer=optimizer\n",
    ")\n",
    "train_loss_dict, test_loss_dict = trainer.train(num_epochs)"
   ]
  },
  {
   "cell_type": "code",
   "execution_count": null,
   "id": "87279975",
   "metadata": {},
   "outputs": [],
   "source": [
    "# We can now plot the training loss with our utility script\n",
    "\n",
    "# Plot loss\n",
    "utils.plot_loss(train_loss_dict, label=\"Train Loss\")\n",
    "utils.plot_loss(test_loss_dict, label=\"Test Loss\")\n",
    "# Limit the y-axis of the plot (The range should not be increased!)\n",
    "plt.ylim([0, .5])\n",
    "plt.legend()\n",
    "plt.xlabel(\"Global Training Step\")\n",
    "plt.ylabel(\"Cross Entropy Loss\")\n",
    "plt.savefig(utils.image_output_dir.joinpath(\"task2a_plot.png\"))\n",
    "plt.show()\n",
    "\n",
    "final_loss, final_acc = utils.compute_loss_and_accuracy(\n",
    "    dataloader_test, model, loss_function)\n",
    "print(f\"Final Test loss: {final_loss}. Final Test accuracy: {final_acc}\")"
   ]
  }
 ],
 "metadata": {},
 "nbformat": 4,
 "nbformat_minor": 5
}
