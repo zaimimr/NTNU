{
 "cells": [
  {
   "cell_type": "code",
   "execution_count": null,
   "id": "7cf3b55b",
   "metadata": {},
   "outputs": [],
   "source": [
    "import skimage\n",
    "import skimage.io\n",
    "import skimage.transform\n",
    "import os\n",
    "import numpy as np\n",
    "import utils\n",
    "import matplotlib.pyplot as plt"
   ]
  },
  {
   "cell_type": "code",
   "execution_count": null,
   "id": "59f4358f",
   "metadata": {},
   "outputs": [],
   "source": [
    "if __name__ == \"__main__\":\n",
    "    # DO NOT CHANGE\n",
    "    impath = os.path.join(\"images\", \"noisy_moon.png\")\n",
    "    im = utils.read_im(impath)\n",
    "\n",
    "    ### START YOUR CODE HERE ### (You can change anything inside this block)\n",
    "    im_filtered = im\n",
    "    \n",
    "    \n",
    "\n",
    "    ### END YOUR CODE HERE ###\n",
    "    utils.save_im(\"moon_filtered.png\", utils.normalize(im_filtered))"
   ]
  }
 ],
 "metadata": {},
 "nbformat": 4,
 "nbformat_minor": 5
}
