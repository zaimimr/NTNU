{
 "cells": [
  {
   "cell_type": "markdown",
   "metadata": {},
   "source": [
    "# Given"
   ]
  },
  {
   "cell_type": "markdown",
   "metadata": {},
   "source": [
    "![Architecture](./Architecture.png)"
   ]
  },
  {
   "cell_type": "markdown",
   "metadata": {},
   "source": [
    "### Input\n",
    "| 1 | 2 | 0 | 2 | 1 |\n",
    "|---|---|---|---|---|\n",
    "| 0 | 1 | 1 | 2 | 1 |\n",
    "| 1 | 2 | 0 | 1 | 0 |\n",
    "| 1 | 2 | 1 | 2 | 1 |\n",
    "| 0 | 0 | 3 | 2 | 3 |\n",
    "\n",
    "### Kernel\n",
    "| 1  | -1 |\n",
    "|----|----|\n",
    "| -1 |  1 |\n",
    "\n",
    "### Convolution\n",
    "| 1 |  3 | 0 | 1 |\n",
    "|---|----|---|---|\n",
    "| 1 | -1 | 1 | 1 |\n",
    "| 1 |  2 | 1 | 1 |\n",
    "| 0 |  5 | x | 3 |\n",
    "\n",
    "### Initial weights fcnn\n",
    "| 1 | 1 | -1 | 1 |\n",
    "|---|---|----|---|\n",
    "\n",
    "Initial bias for convolution = 1\n",
    "Initial bias for fcnn = 0\n",
    "Learning Rate = 0.1\n",
    "\n",
    "### dL/d(z_conv)\n",
    "| 0 |  -0.358 | 0 | -0.119 |\n",
    "|---|----|---|---|\n",
    "| 0 | 0 | 0 | 0 |\n",
    "| 0 | 0 | 0 | 0 |\n",
    "| 0 | -0.596 | 0 | -0.358 |"
   ]
  },
  {
   "cell_type": "markdown",
   "metadata": {},
   "source": [
    "# Find\n",
    "\n",
    "Find the last number X in the convolution, the flatten layer, the loss, and the updated kernel"
   ]
  },
  {
   "cell_type": "markdown",
   "metadata": {},
   "source": [
    "# Solution"
   ]
  },
  {
   "cell_type": "markdown",
   "metadata": {},
   "source": [
    "### Start by convolution\n",
    "((1*1)-(1*2)-(3*1)+(2*1))+1 = -1\n",
    "\n",
    "### Last number is found \n",
    "| 1 |  3 |  0 | 1 |\n",
    "|---|----|----|---|\n",
    "| 1 | -1 |  1 | 1 |\n",
    "| 1 |  2 |  1 | 1 |\n",
    "| 0 |  5 | -1 | 3 |\n",
    "\n",
    "### ReLU\n",
    "| 1 |  3 |  0 | 1 |\n",
    "|---|----|----|---|\n",
    "| 1 |  0 |  1 | 1 |\n",
    "| 1 |  2 |  1 | 1 |\n",
    "| 0 |  5 |  0 | 3 |\n",
    "\n",
    "### Max Pool\n",
    "\n",
    "| 3  | 1  |\n",
    "|----|----|\n",
    "| 5  | 3  |\n",
    "\n",
    "### Flatten\n",
    "| 3 | 1 | 5  | 3  |\n",
    "|----|----|----|----|"
   ]
  },
  {
   "cell_type": "markdown",
   "metadata": {},
   "source": [
    "z = (1 * 3 + 1 * 1 - 1 * 5 + 1 * 3) + 0 = 2\n",
    "\n",
    "a = 1/(1 + np.exp(-2)) = 0.88\n",
    "\n",
    "Loss = -1 * (1 * log(0.88) + (1-1) * log(1-0.88)) = 0.055"
   ]
  },
  {
   "cell_type": "markdown",
   "metadata": {},
   "source": [
    "### Finding gradient kernel\n",
    "using delta\n",
    "| 0 |  -0.358 | 0 | -0.119 |\n",
    "|---|----|---|---|\n",
    "| 0 | 0 | 0 | 0 |\n",
    "| 0 | 0 | 0 | 0 |\n",
    "| 0 | -0.596 | 0 | -0.358 |\n",
    "\n",
    "using input\n",
    "| 1 | 2 | 0 | 2 | 1 |\n",
    "|---|---|---|---|---|\n",
    "| 0 | 1 | 1 | 2 | 1 |\n",
    "| 1 | 2 | 0 | 1 | 0 |\n",
    "| 1 | 2 | 1 | 2 | 1 |\n",
    "| 0 | 0 | 3 | 2 | 3 |\n",
    "\n",
    "(0,0) = 2*-0.358+2*-0.119+2*-0.596+2*-0.358 = -2.862\n",
    "\n",
    "(0,1) = 0*-0.358+1*-0.119+1*-0.596+1*-0.358 = -1.073\n",
    "\n",
    "(1,0) = 1*-0.358+2*-0.119+0*-0.596+2*-0.358 = -1.312\n",
    "\n",
    "(1,1) = 1*-0.358+1*-0.119+3*-0.596+3*-0.358 = -3.338\n",
    "\n",
    "Gradient kerlen\n",
    "| -2.862 | -1.073 |\n",
    "|---|---|\n",
    "| -1.312 | -3.338 |\n",
    "\n",
    "### Updating kernel with learning rate\n",
    "kernel \n",
    "| 1  | -1 |\n",
    "|----|----|\n",
    "| -1 |  1 |\n",
    "\n",
    "learning rate = 0.1\n",
    "\n",
    "new kernel\n",
    "| 1  | -1 |       \n",
    "|----|----|\n",
    "| -1 |  1 |\n",
    "\n",
    " (-)\n",
    "\n",
    "| -.2862 | -.1073 |\n",
    "|---|---|\n",
    "| -.1312 | -.3338 |\n",
    "\n",
    "=\n",
    "| 1.286   | -0.893 |       \n",
    "|----|----|\n",
    "| -0.893 |  1.334 |\n"
   ]
  },
  {
   "cell_type": "markdown",
   "metadata": {},
   "source": []
  }
 ],
 "metadata": {
  "kernelspec": {
   "display_name": "Python 3.10.6 64-bit",
   "language": "python",
   "name": "python3"
  },
  "language_info": {
   "codemirror_mode": {
    "name": "ipython",
    "version": 3
   },
   "file_extension": ".py",
   "mimetype": "text/x-python",
   "name": "python",
   "nbconvert_exporter": "python",
   "pygments_lexer": "ipython3",
   "version": "3.10.6"
  },
  "orig_nbformat": 4,
  "vscode": {
   "interpreter": {
    "hash": "aee8b7b246df8f9039afb4144a1f6fd8d2ca17a180786b69acc140d282b71a49"
   }
  }
 },
 "nbformat": 4,
 "nbformat_minor": 2
}
